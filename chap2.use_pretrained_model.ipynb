{
 "cells": [
  {
   "cell_type": "markdown",
   "metadata": {},
   "source": [
    "## Goals \n",
    "\n",
    "1. Tensorflow에서 제공하는 pretrained CNN model을 활용하는 방법 실습\n",
    "2. HuggingFace에서 제공하는 pretrained RNN model을 활용하는 방법 실습"
   ]
  },
  {
   "cell_type": "markdown",
   "metadata": {},
   "source": [
    "# 1. CNN Models for Image Classification"
   ]
  },
  {
   "cell_type": "markdown",
   "metadata": {},
   "source": [
    "### Tensorflow 제공 pretrained CNN models"
   ]
  },
  {
   "cell_type": "markdown",
   "metadata": {},
   "source": [
    "https://www.tensorflow.org/api_docs/python/tf/keras/applications"
   ]
  },
  {
   "cell_type": "code",
   "execution_count": null,
   "metadata": {},
   "outputs": [],
   "source": [
    "import numpy as np\n",
    "import matplotlib.pyplot as plt"
   ]
  },
  {
   "cell_type": "code",
   "execution_count": 3,
   "metadata": {},
   "outputs": [],
   "source": [
    "from tensorflow.keras.applications import resnet50\n",
    "from tensorflow.keras.preprocessing import image"
   ]
  },
  {
   "cell_type": "markdown",
   "metadata": {},
   "source": [
    "- ImageNet 데이터셋으로 학습된 `resnet50` 모델 사용\n",
    "    - ImageNet은 (224, 224, 3)크기의 이미지 약 1M 장으로 이루어진 데이터셋, 1000개의 클래스 (라벨) 포함"
   ]
  },
  {
   "cell_type": "code",
   "execution_count": null,
   "metadata": {},
   "outputs": [],
   "source": [
    "model = resnet50.ResNet50(weights='imagenet') # ImageNet 데이터셋으로 학습된 ResNet50 모델 불러오기"
   ]
  },
  {
   "cell_type": "markdown",
   "metadata": {},
   "source": [
    "- tensorflow의 `image` 모듈을 통해 로컬에 저장되어있는 이미지 파일 불러오기"
   ]
  },
  {
   "cell_type": "code",
   "execution_count": null,
   "metadata": {},
   "outputs": [],
   "source": [
    "image_path = 'appenzeller.jpg'\n",
    "\n",
    "img = image.load_img(image_path, target_size = (224,224))\n",
    "plt.imshow(img)\n",
    "plt.axis('off')\n",
    "plt.show()"
   ]
  },
  {
   "cell_type": "markdown",
   "metadata": {},
   "source": [
    "- `resnet50`의 `preprocess_input` 함수를 통해 이미지 전처리"
   ]
  },
  {
   "cell_type": "code",
   "execution_count": null,
   "metadata": {},
   "outputs": [],
   "source": [
    "x=image.img_to_array(img)\n",
    "x=np.expand_dims(x,axis=0)\n",
    "x=resnet50.preprocess_input(x)\n",
    "\n",
    "print(x.shape)"
   ]
  },
  {
   "cell_type": "markdown",
   "metadata": {},
   "source": [
    "- 전처리된 입력 이미지 `x`에 대한 모델의 출력 확인\n",
    "    - 1000개의 클래스에 대한 확률값이 출력됨"
   ]
  },
  {
   "cell_type": "code",
   "execution_count": null,
   "metadata": {},
   "outputs": [],
   "source": [
    "outputs = model(x)\n",
    "print(outputs) # 모델의 출력값 확인: 1000개 class에 대한 확률값 출력"
   ]
  },
  {
   "cell_type": "markdown",
   "metadata": {},
   "source": [
    "- `decode_predictions` 함수를 통해 모델 출력 해석: 가장 높은 확률을 가지는 상위 k개 클래스 확인"
   ]
  },
  {
   "cell_type": "code",
   "execution_count": null,
   "metadata": {},
   "outputs": [],
   "source": [
    "outputs = outputs.numpy()\n",
    "\n",
    "top_k = 3\n",
    "prediction_results = resnet50.decode_predictions(outputs, top=top_k)[0]\n",
    "\n",
    "print(prediction_results)"
   ]
  },
  {
   "cell_type": "markdown",
   "metadata": {},
   "source": [
    "# 2. RNN Models for Text Classification"
   ]
  },
  {
   "cell_type": "markdown",
   "metadata": {},
   "source": [
    "### Hugging Face 제공 pretrained RNN models\n",
    "\n",
    "- BERT, GPT 등 Transformer 기반의 대형 RNN 모델은 tensorflow에서 pretrained model을 제공하지 않음\n",
    "- Hugging Face에서는 다양한 pretrained RNN 모델을 제공하고 있음\n",
    "    - https://huggingface.co\n"
   ]
  },
  {
   "cell_type": "code",
   "execution_count": null,
   "metadata": {},
   "outputs": [],
   "source": [
    "!pip install transformers"
   ]
  },
  {
   "cell_type": "markdown",
   "metadata": {},
   "source": [
    "- Text에 대한 sentiment analysis를 수행하는 BERT 모델을 가져오기\n",
    "    - https://huggingface.co/lxyuan/distilbert-base-multilingual-cased-sentiments-student"
   ]
  },
  {
   "cell_type": "code",
   "execution_count": 17,
   "metadata": {},
   "outputs": [
    {
     "name": "stderr",
     "output_type": "stream",
     "text": [
      "/usr/local/lib/python3.8/dist-packages/transformers/pipelines/text_classification.py:105: UserWarning: `return_all_scores` is now deprecated,  if want a similar functionality use `top_k=None` instead of `return_all_scores=True` or `top_k=1` instead of `return_all_scores=False`.\n",
      "  warnings.warn(\n"
     ]
    }
   ],
   "source": [
    "from transformers import pipeline\n",
    "\n",
    "rnn_model = pipeline(\n",
    "    model=\"lxyuan/distilbert-base-multilingual-cased-sentiments-student\", \n",
    "    return_all_scores=True\n",
    ")"
   ]
  },
  {
   "cell_type": "markdown",
   "metadata": {},
   "source": [
    "- 긍정적 / 부정적인 의도가 포함된 프롬프트를 입력하고 모델의 출력 확인"
   ]
  },
  {
   "cell_type": "code",
   "execution_count": null,
   "metadata": {},
   "outputs": [],
   "source": [
    "prompt = \"I love this movie and i would watch it again and again!\"\n",
    "rnn_model(prompt)"
   ]
  },
  {
   "cell_type": "code",
   "execution_count": null,
   "metadata": {},
   "outputs": [],
   "source": [
    "prompt = \"I hate this movie and i would never watch it again!\"\n",
    "rnn_model(prompt)"
   ]
  },
  {
   "cell_type": "markdown",
   "metadata": {},
   "source": [
    "### Quiz 3\n",
    "\n",
    "- **Goal**: Sentiment Analysis 를 수행하는 다른 RNN 기반 모델을 로드하여 출력값을 확인해보세요.\n",
    "  \n",
    "- **Tips**: Huggingface 웹페이지에서 sentiment analysis 키워드로 검색\n",
    "\n",
    "    \n"
   ]
  },
  {
   "cell_type": "code",
   "execution_count": 1,
   "metadata": {},
   "outputs": [],
   "source": [
    "# TODO"
   ]
  }
 ],
 "metadata": {
  "accelerator": "GPU",
  "colab": {
   "provenance": []
  },
  "gpuClass": "standard",
  "kernelspec": {
   "display_name": "Python 3 (ipykernel)",
   "language": "python",
   "name": "python3"
  },
  "language_info": {
   "codemirror_mode": {
    "name": "ipython",
    "version": 3
   },
   "file_extension": ".py",
   "mimetype": "text/x-python",
   "name": "python",
   "nbconvert_exporter": "python",
   "pygments_lexer": "ipython3",
   "version": "3.8.10"
  },
  "vscode": {
   "interpreter": {
    "hash": "bc91204877c4137c2212b1d61d6534ff6dfb04f40855d2e912a8a7e2bf1bc891"
   }
  }
 },
 "nbformat": 4,
 "nbformat_minor": 1
}
